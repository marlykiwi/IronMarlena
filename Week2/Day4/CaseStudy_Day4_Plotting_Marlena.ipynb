{
 "cells": [
  {
   "cell_type": "code",
   "execution_count": 1,
   "id": "54a109c6",
   "metadata": {},
   "outputs": [],
   "source": [
    "# import libraries to use (pandas, matplotlib.pyplot and seaborn)\n",
    "import pandas as pd\n",
    "import numpy as np\n",
    "import matplotlib.pyplot as plt\n",
    "import seaborn as sns\n",
    "from sklearn.preprocessing import PowerTransformer\n",
    "\n",
    "%matplotlib inline"
   ]
  },
  {
   "cell_type": "markdown",
   "id": "b69767d6",
   "metadata": {},
   "source": [
    "### Get the numeric data into dataframe\n",
    "\n",
    "Get the numeric data into dataframe called numerical and categorical columns in a dataframe called categoricals. (You can use np.number and np.object to select the numerical data types and categorical data types respectively)\n",
    " "
   ]
  },
  {
   "cell_type": "code",
   "execution_count": 2,
   "id": "27a80528",
   "metadata": {},
   "outputs": [],
   "source": [
    "# Import data from Data folder and create a data frame named \"data\"\n",
    "data = pd.read_csv('Data/Data_Marketing_Customer_Analysis_Round3.csv')"
   ]
  },
  {
   "cell_type": "markdown",
   "id": "04b1ce28",
   "metadata": {},
   "source": [
    "**! No need to run cell below** - except for check of data types"
   ]
  },
  {
   "cell_type": "code",
   "execution_count": null,
   "id": "177c2793",
   "metadata": {},
   "outputs": [],
   "source": [
    "# Check data types of columns\n",
    "data.dtypes"
   ]
  },
  {
   "cell_type": "code",
   "execution_count": 5,
   "id": "09410f2f",
   "metadata": {},
   "outputs": [
    {
     "data": {
      "text/html": [
       "<div>\n",
       "<style scoped>\n",
       "    .dataframe tbody tr th:only-of-type {\n",
       "        vertical-align: middle;\n",
       "    }\n",
       "\n",
       "    .dataframe tbody tr th {\n",
       "        vertical-align: top;\n",
       "    }\n",
       "\n",
       "    .dataframe thead th {\n",
       "        text-align: right;\n",
       "    }\n",
       "</style>\n",
       "<table border=\"1\" class=\"dataframe\">\n",
       "  <thead>\n",
       "    <tr style=\"text-align: right;\">\n",
       "      <th></th>\n",
       "      <th>customer_lifetime_value</th>\n",
       "      <th>income</th>\n",
       "      <th>monthly_premium_auto</th>\n",
       "      <th>months_since_last_claim</th>\n",
       "      <th>months_since_policy_inception</th>\n",
       "      <th>number_of_open_complaints</th>\n",
       "      <th>number_of_policies</th>\n",
       "      <th>total_claim_amount</th>\n",
       "    </tr>\n",
       "  </thead>\n",
       "  <tbody>\n",
       "    <tr>\n",
       "      <th>0</th>\n",
       "      <td>4809</td>\n",
       "      <td>48029</td>\n",
       "      <td>61</td>\n",
       "      <td>7</td>\n",
       "      <td>52</td>\n",
       "      <td>0</td>\n",
       "      <td>9</td>\n",
       "      <td>292</td>\n",
       "    </tr>\n",
       "    <tr>\n",
       "      <th>1</th>\n",
       "      <td>2228</td>\n",
       "      <td>92260</td>\n",
       "      <td>64</td>\n",
       "      <td>3</td>\n",
       "      <td>26</td>\n",
       "      <td>0</td>\n",
       "      <td>1</td>\n",
       "      <td>744</td>\n",
       "    </tr>\n",
       "    <tr>\n",
       "      <th>2</th>\n",
       "      <td>14947</td>\n",
       "      <td>22139</td>\n",
       "      <td>100</td>\n",
       "      <td>34</td>\n",
       "      <td>31</td>\n",
       "      <td>0</td>\n",
       "      <td>2</td>\n",
       "      <td>480</td>\n",
       "    </tr>\n",
       "    <tr>\n",
       "      <th>3</th>\n",
       "      <td>22332</td>\n",
       "      <td>49078</td>\n",
       "      <td>97</td>\n",
       "      <td>10</td>\n",
       "      <td>3</td>\n",
       "      <td>0</td>\n",
       "      <td>2</td>\n",
       "      <td>484</td>\n",
       "    </tr>\n",
       "    <tr>\n",
       "      <th>4</th>\n",
       "      <td>9025</td>\n",
       "      <td>23675</td>\n",
       "      <td>117</td>\n",
       "      <td>33</td>\n",
       "      <td>31</td>\n",
       "      <td>0</td>\n",
       "      <td>7</td>\n",
       "      <td>707</td>\n",
       "    </tr>\n",
       "  </tbody>\n",
       "</table>\n",
       "</div>"
      ],
      "text/plain": [
       "   customer_lifetime_value  income  monthly_premium_auto  \\\n",
       "0                     4809   48029                    61   \n",
       "1                     2228   92260                    64   \n",
       "2                    14947   22139                   100   \n",
       "3                    22332   49078                    97   \n",
       "4                     9025   23675                   117   \n",
       "\n",
       "   months_since_last_claim  months_since_policy_inception  \\\n",
       "0                        7                             52   \n",
       "1                        3                             26   \n",
       "2                       34                             31   \n",
       "3                       10                              3   \n",
       "4                       33                             31   \n",
       "\n",
       "   number_of_open_complaints  number_of_policies  total_claim_amount  \n",
       "0                          0                   9                 292  \n",
       "1                          0                   1                 744  \n",
       "2                          0                   2                 480  \n",
       "3                          0                   2                 484  \n",
       "4                          0                   7                 707  "
      ]
     },
     "execution_count": 5,
     "metadata": {},
     "output_type": "execute_result"
    }
   ],
   "source": [
    "# Create data frame: \"numerical\" contains all the number columns\n",
    "numerical = data.select_dtypes(np.number)\n",
    "numerical.head()"
   ]
  },
  {
   "cell_type": "code",
   "execution_count": 6,
   "id": "c1f39091",
   "metadata": {},
   "outputs": [
    {
     "data": {
      "text/html": [
       "<div>\n",
       "<style scoped>\n",
       "    .dataframe tbody tr th:only-of-type {\n",
       "        vertical-align: middle;\n",
       "    }\n",
       "\n",
       "    .dataframe tbody tr th {\n",
       "        vertical-align: top;\n",
       "    }\n",
       "\n",
       "    .dataframe thead th {\n",
       "        text-align: right;\n",
       "    }\n",
       "</style>\n",
       "<table border=\"1\" class=\"dataframe\">\n",
       "  <thead>\n",
       "    <tr style=\"text-align: right;\">\n",
       "      <th></th>\n",
       "      <th>region</th>\n",
       "      <th>response</th>\n",
       "      <th>coverage</th>\n",
       "      <th>education</th>\n",
       "      <th>effective_to_date</th>\n",
       "      <th>month</th>\n",
       "      <th>employment_status</th>\n",
       "      <th>gender</th>\n",
       "      <th>location_code</th>\n",
       "      <th>marital_status</th>\n",
       "      <th>policy_type</th>\n",
       "      <th>policy</th>\n",
       "      <th>renew_offer_type</th>\n",
       "      <th>sales_channel</th>\n",
       "      <th>vehicle_class</th>\n",
       "      <th>vehicle_size</th>\n",
       "    </tr>\n",
       "  </thead>\n",
       "  <tbody>\n",
       "    <tr>\n",
       "      <th>0</th>\n",
       "      <td>central</td>\n",
       "      <td>no</td>\n",
       "      <td>basic</td>\n",
       "      <td>college</td>\n",
       "      <td>2/18/11</td>\n",
       "      <td>feb</td>\n",
       "      <td>employed</td>\n",
       "      <td>m</td>\n",
       "      <td>suburban</td>\n",
       "      <td>married</td>\n",
       "      <td>corporate auto</td>\n",
       "      <td>corporate l3</td>\n",
       "      <td>offer3</td>\n",
       "      <td>agent</td>\n",
       "      <td>four-door car</td>\n",
       "      <td>medsize</td>\n",
       "    </tr>\n",
       "    <tr>\n",
       "      <th>1</th>\n",
       "      <td>west region</td>\n",
       "      <td>no</td>\n",
       "      <td>basic</td>\n",
       "      <td>college</td>\n",
       "      <td>1/18/11</td>\n",
       "      <td>jan</td>\n",
       "      <td>unemployed</td>\n",
       "      <td>f</td>\n",
       "      <td>suburban</td>\n",
       "      <td>single</td>\n",
       "      <td>personal auto</td>\n",
       "      <td>personal l3</td>\n",
       "      <td>offer4</td>\n",
       "      <td>call center</td>\n",
       "      <td>four-door car</td>\n",
       "      <td>medsize</td>\n",
       "    </tr>\n",
       "    <tr>\n",
       "      <th>2</th>\n",
       "      <td>east</td>\n",
       "      <td>no</td>\n",
       "      <td>basic</td>\n",
       "      <td>bachelor</td>\n",
       "      <td>2/10/11</td>\n",
       "      <td>feb</td>\n",
       "      <td>employed</td>\n",
       "      <td>m</td>\n",
       "      <td>suburban</td>\n",
       "      <td>single</td>\n",
       "      <td>personal auto</td>\n",
       "      <td>personal l3</td>\n",
       "      <td>offer3</td>\n",
       "      <td>call center</td>\n",
       "      <td>suv</td>\n",
       "      <td>medsize</td>\n",
       "    </tr>\n",
       "    <tr>\n",
       "      <th>3</th>\n",
       "      <td>north west</td>\n",
       "      <td>yes</td>\n",
       "      <td>extended</td>\n",
       "      <td>college</td>\n",
       "      <td>1/11/11</td>\n",
       "      <td>jan</td>\n",
       "      <td>employed</td>\n",
       "      <td>m</td>\n",
       "      <td>suburban</td>\n",
       "      <td>single</td>\n",
       "      <td>corporate auto</td>\n",
       "      <td>corporate l3</td>\n",
       "      <td>offer2</td>\n",
       "      <td>branch</td>\n",
       "      <td>four-door car</td>\n",
       "      <td>medsize</td>\n",
       "    </tr>\n",
       "    <tr>\n",
       "      <th>4</th>\n",
       "      <td>north west</td>\n",
       "      <td>no</td>\n",
       "      <td>premium</td>\n",
       "      <td>bachelor</td>\n",
       "      <td>1/17/11</td>\n",
       "      <td>jan</td>\n",
       "      <td>medical leave</td>\n",
       "      <td>f</td>\n",
       "      <td>suburban</td>\n",
       "      <td>married</td>\n",
       "      <td>personal auto</td>\n",
       "      <td>personal l2</td>\n",
       "      <td>offer1</td>\n",
       "      <td>branch</td>\n",
       "      <td>four-door car</td>\n",
       "      <td>medsize</td>\n",
       "    </tr>\n",
       "  </tbody>\n",
       "</table>\n",
       "</div>"
      ],
      "text/plain": [
       "        region response  coverage education effective_to_date month  \\\n",
       "0      central       no     basic   college           2/18/11   feb   \n",
       "1  west region       no     basic   college           1/18/11   jan   \n",
       "2         east       no     basic  bachelor           2/10/11   feb   \n",
       "3   north west      yes  extended   college           1/11/11   jan   \n",
       "4   north west       no   premium  bachelor           1/17/11   jan   \n",
       "\n",
       "  employment_status gender location_code marital_status     policy_type  \\\n",
       "0          employed      m      suburban        married  corporate auto   \n",
       "1        unemployed      f      suburban         single   personal auto   \n",
       "2          employed      m      suburban         single   personal auto   \n",
       "3          employed      m      suburban         single  corporate auto   \n",
       "4     medical leave      f      suburban        married   personal auto   \n",
       "\n",
       "         policy renew_offer_type sales_channel  vehicle_class vehicle_size  \n",
       "0  corporate l3           offer3         agent  four-door car      medsize  \n",
       "1   personal l3           offer4   call center  four-door car      medsize  \n",
       "2   personal l3           offer3   call center            suv      medsize  \n",
       "3  corporate l3           offer2        branch  four-door car      medsize  \n",
       "4   personal l2           offer1        branch  four-door car      medsize  "
      ]
     },
     "execution_count": 6,
     "metadata": {},
     "output_type": "execute_result"
    }
   ],
   "source": [
    "# Create data frame: \"categoricals\" saves everything but numerical\n",
    "\n",
    "categoricals = data.select_dtypes(exclude = np.number)\n",
    "categoricals.head()"
   ]
  },
  {
   "cell_type": "markdown",
   "id": "84399c23",
   "metadata": {},
   "source": [
    "### Check the normality of the numerical variables visually"
   ]
  },
  {
   "cell_type": "markdown",
   "id": "0784bcd5",
   "metadata": {},
   "source": [
    "Use seaborn library to construct distribution plots for the numerical variables"
   ]
  },
  {
   "cell_type": "markdown",
   "id": "b778cb2e",
   "metadata": {},
   "source": [
    "### Construct histograms\n",
    "\n",
    "The histograms illustrated below show the lack of normality in any of the observed features."
   ]
  },
  {
   "cell_type": "code",
   "execution_count": 8,
   "id": "6b631287",
   "metadata": {},
   "outputs": [
    {
     "data": {
      "text/plain": [
       "array([[<AxesSubplot:title={'center':'customer_lifetime_value'}>,\n",
       "        <AxesSubplot:title={'center':'income'}>,\n",
       "        <AxesSubplot:title={'center':'monthly_premium_auto'}>],\n",
       "       [<AxesSubplot:title={'center':'months_since_last_claim'}>,\n",
       "        <AxesSubplot:title={'center':'months_since_policy_inception'}>,\n",
       "        <AxesSubplot:title={'center':'number_of_open_complaints'}>],\n",
       "       [<AxesSubplot:title={'center':'number_of_policies'}>,\n",
       "        <AxesSubplot:title={'center':'total_claim_amount'}>,\n",
       "        <AxesSubplot:>]], dtype=object)"
      ]
     },
     "execution_count": 8,
     "metadata": {},
     "output_type": "execute_result"
    },
    {
     "data": {
      "image/png": "[encoded data removed]",
      "text/plain": [
       "<Figure size 1152x1440 with 9 Axes>"
      ]
     },
     "metadata": {
      "needs_background": "light"
     },
     "output_type": "display_data"
    }
   ],
   "source": [
    "numerical.hist(figsize=(16,20), bins=50, xlabelsize=8, ylabelsize=8)"
   ]
  },
  {
   "cell_type": "markdown",
   "id": "a5d2f6b9",
   "metadata": {},
   "source": [
    "As an alternative to using the histogram function, there's a chance to use displot from Seaborn. The function will run on every variable listed within the numerical dataframe (integer or float values exclusively)."
   ]
  },
  {
   "cell_type": "code",
   "execution_count": 9,
   "id": "1685ad19",
   "metadata": {},
   "outputs": [
    {
     "data": {
      "image/png": "[encoded data removed]",
      "text/plain": [
       "<Figure size 360x360 with 1 Axes>"
      ]
     },
     "metadata": {
      "needs_background": "light"
     },
     "output_type": "display_data"
    },
    {
     "data": {
      "image/png": "[encoded data removed]",
      "text/plain": [
       "<Figure size 360x360 with 1 Axes>"
      ]
     },
     "metadata": {
      "needs_background": "light"
     },
     "output_type": "display_data"
    },
    {
     "data": {
      "image/png": "[encoded data removed]",
      "text/plain": [
       "<Figure size 360x360 with 1 Axes>"
      ]
     },
     "metadata": {
      "needs_background": "light"
     },
     "output_type": "display_data"
    },
    {
     "data": {
      "image/png": "[encoded data removed]",
      "text/plain": [
       "<Figure size 360x360 with 1 Axes>"
      ]
     },
     "metadata": {
      "needs_background": "light"
     },
     "output_type": "display_data"
    },
    {
     "data": {
      "image/png": "[encoded data removed]",
      "text/plain": [
       "<Figure size 360x360 with 1 Axes>"
      ]
     },
     "metadata": {
      "needs_background": "light"
     },
     "output_type": "display_data"
    },
    {
     "data": {
      "image/png": "[encoded data removed]",
      "text/plain": [
       "<Figure size 360x360 with 1 Axes>"
      ]
     },
     "metadata": {
      "needs_background": "light"
     },
     "output_type": "display_data"
    },
    {
     "data": {
      "image/png": "[encoded data removed]",
      "text/plain": [
       "<Figure size 360x360 with 1 Axes>"
      ]
     },
     "metadata": {
      "needs_background": "light"
     },
     "output_type": "display_data"
    },
    {
     "data": {
      "image/png": "[encoded data removed]",
      "text/plain": [
       "<Figure size 360x360 with 1 Axes>"
      ]
     },
     "metadata": {
      "needs_background": "light"
     },
     "output_type": "display_data"
    }
   ],
   "source": [
    "for it in list(numerical.columns):\n",
    "#    sns.displot(numerical[\"income\"])\n",
    "    sns.displot(numerical[it])"
   ]
  },
  {
   "cell_type": "code",
   "execution_count": 10,
   "id": "b340fc42",
   "metadata": {},
   "outputs": [],
   "source": [
    "# Just for reference of the use of distplot\n",
    "# print(numerical['customer_lifetime_value'].describe())\n",
    "# plt.figure(figsize=(9, 8))\n",
    "# sns.distplot(numerical['customer_lifetime_value'], color='g', bins=100, hist_kws={'alpha': 0.4});"
   ]
  },
  {
   "cell_type": "markdown",
   "id": "c084f4eb",
   "metadata": {},
   "source": [
    "### Transformation into normal distribution\n",
    " \n",
    "Rather than attempting every feature to be normalized, only the variables with an appearance close to a normal are transformed. The following are:\n",
    "\n",
    "- Customer lifetime value\n",
    "- Total claim amount\n",
    "\n",
    "**Normalization of the customer lifetime value**"
   ]
  },
  {
   "cell_type": "code",
   "execution_count": 11,
   "id": "6f42d0e3",
   "metadata": {
    "scrolled": true
   },
   "outputs": [
    {
     "data": {
      "text/plain": [
       "<seaborn.axisgrid.FacetGrid at 0x7f7bf04f85e0>"
      ]
     },
     "execution_count": 11,
     "metadata": {},
     "output_type": "execute_result"
    },
    {
     "data": {
      "image/png": "[encoded data removed]",
      "text/plain": [
       "<Figure size 402.375x360 with 1 Axes>"
      ]
     },
     "metadata": {
      "needs_background": "light"
     },
     "output_type": "display_data"
    }
   ],
   "source": [
    "pt = PowerTransformer()\n",
    "lifetime_value_transformed=pt.fit_transform(numerical['customer_lifetime_value'].to_numpy().reshape(-1,1))\n",
    "sns.displot(lifetime_value_transformed)"
   ]
  },
  {
   "cell_type": "markdown",
   "id": "7d9bd03d",
   "metadata": {},
   "source": [
    "**Normalization of the total claim amount**"
   ]
  },
  {
   "cell_type": "code",
   "execution_count": 12,
   "id": "647d2d19",
   "metadata": {
    "scrolled": true
   },
   "outputs": [
    {
     "data": {
      "text/plain": [
       "<seaborn.axisgrid.FacetGrid at 0x7f7c125b5ac0>"
      ]
     },
     "execution_count": 12,
     "metadata": {},
     "output_type": "execute_result"
    },
    {
     "data": {
      "image/png": "[encoded data removed]",
      "text/plain": [
       "<Figure size 402.375x360 with 1 Axes>"
      ]
     },
     "metadata": {
      "needs_background": "light"
     },
     "output_type": "display_data"
    }
   ],
   "source": [
    "pt = PowerTransformer()\n",
    "claim_amount_transformed=pt.fit_transform(numerical['total_claim_amount'].to_numpy().reshape(-1,1))\n",
    "sns.displot(claim_amount_transformed)"
   ]
  },
  {
   "cell_type": "markdown",
   "id": "7f96e4f6",
   "metadata": {},
   "source": [
    "### Determine numerical correlation between features\n",
    "\n",
    "In order to determine whether the data is affected by the correlation of any features in a table format, we will evaluate all of the numerical variables with the correlation function:"
   ]
  },
  {
   "cell_type": "code",
   "execution_count": 13,
   "id": "bb7b1b06",
   "metadata": {},
   "outputs": [
    {
     "data": {
      "text/html": [
       "<div>\n",
       "<style scoped>\n",
       "    .dataframe tbody tr th:only-of-type {\n",
       "        vertical-align: middle;\n",
       "    }\n",
       "\n",
       "    .dataframe tbody tr th {\n",
       "        vertical-align: top;\n",
       "    }\n",
       "\n",
       "    .dataframe thead th {\n",
       "        text-align: right;\n",
       "    }\n",
       "</style>\n",
       "<table border=\"1\" class=\"dataframe\">\n",
       "  <thead>\n",
       "    <tr style=\"text-align: right;\">\n",
       "      <th></th>\n",
       "      <th>customer_lifetime_value</th>\n",
       "      <th>income</th>\n",
       "      <th>monthly_premium_auto</th>\n",
       "      <th>months_since_last_claim</th>\n",
       "      <th>months_since_policy_inception</th>\n",
       "      <th>number_of_open_complaints</th>\n",
       "      <th>number_of_policies</th>\n",
       "      <th>total_claim_amount</th>\n",
       "    </tr>\n",
       "  </thead>\n",
       "  <tbody>\n",
       "    <tr>\n",
       "      <th>customer_lifetime_value</th>\n",
       "      <td>1.000000</td>\n",
       "      <td>0.003732</td>\n",
       "      <td>0.404235</td>\n",
       "      <td>0.011912</td>\n",
       "      <td>0.017055</td>\n",
       "      <td>-0.032371</td>\n",
       "      <td>0.016789</td>\n",
       "      <td>0.232849</td>\n",
       "    </tr>\n",
       "    <tr>\n",
       "      <th>income</th>\n",
       "      <td>0.003732</td>\n",
       "      <td>1.000000</td>\n",
       "      <td>-0.002431</td>\n",
       "      <td>-0.026564</td>\n",
       "      <td>0.003846</td>\n",
       "      <td>0.018903</td>\n",
       "      <td>-0.004461</td>\n",
       "      <td>-0.111221</td>\n",
       "    </tr>\n",
       "    <tr>\n",
       "      <th>monthly_premium_auto</th>\n",
       "      <td>0.404235</td>\n",
       "      <td>-0.002431</td>\n",
       "      <td>1.000000</td>\n",
       "      <td>0.010036</td>\n",
       "      <td>0.019696</td>\n",
       "      <td>-0.008811</td>\n",
       "      <td>-0.018805</td>\n",
       "      <td>0.630149</td>\n",
       "    </tr>\n",
       "    <tr>\n",
       "      <th>months_since_last_claim</th>\n",
       "      <td>0.011912</td>\n",
       "      <td>-0.026564</td>\n",
       "      <td>0.010036</td>\n",
       "      <td>1.000000</td>\n",
       "      <td>-0.034086</td>\n",
       "      <td>0.001204</td>\n",
       "      <td>0.000814</td>\n",
       "      <td>0.013874</td>\n",
       "    </tr>\n",
       "    <tr>\n",
       "      <th>months_since_policy_inception</th>\n",
       "      <td>0.017055</td>\n",
       "      <td>0.003846</td>\n",
       "      <td>0.019696</td>\n",
       "      <td>-0.034086</td>\n",
       "      <td>1.000000</td>\n",
       "      <td>0.002554</td>\n",
       "      <td>-0.009719</td>\n",
       "      <td>0.004186</td>\n",
       "    </tr>\n",
       "    <tr>\n",
       "      <th>number_of_open_complaints</th>\n",
       "      <td>-0.032371</td>\n",
       "      <td>0.018903</td>\n",
       "      <td>-0.008811</td>\n",
       "      <td>0.001204</td>\n",
       "      <td>0.002554</td>\n",
       "      <td>1.000000</td>\n",
       "      <td>-0.000303</td>\n",
       "      <td>-0.010668</td>\n",
       "    </tr>\n",
       "    <tr>\n",
       "      <th>number_of_policies</th>\n",
       "      <td>0.016789</td>\n",
       "      <td>-0.004461</td>\n",
       "      <td>-0.018805</td>\n",
       "      <td>0.000814</td>\n",
       "      <td>-0.009719</td>\n",
       "      <td>-0.000303</td>\n",
       "      <td>1.000000</td>\n",
       "      <td>-0.008019</td>\n",
       "    </tr>\n",
       "    <tr>\n",
       "      <th>total_claim_amount</th>\n",
       "      <td>0.232849</td>\n",
       "      <td>-0.111221</td>\n",
       "      <td>0.630149</td>\n",
       "      <td>0.013874</td>\n",
       "      <td>0.004186</td>\n",
       "      <td>-0.010668</td>\n",
       "      <td>-0.008019</td>\n",
       "      <td>1.000000</td>\n",
       "    </tr>\n",
       "  </tbody>\n",
       "</table>\n",
       "</div>"
      ],
      "text/plain": [
       "                               customer_lifetime_value    income  \\\n",
       "customer_lifetime_value                       1.000000  0.003732   \n",
       "income                                        0.003732  1.000000   \n",
       "monthly_premium_auto                          0.404235 -0.002431   \n",
       "months_since_last_claim                       0.011912 -0.026564   \n",
       "months_since_policy_inception                 0.017055  0.003846   \n",
       "number_of_open_complaints                    -0.032371  0.018903   \n",
       "number_of_policies                            0.016789 -0.004461   \n",
       "total_claim_amount                            0.232849 -0.111221   \n",
       "\n",
       "                               monthly_premium_auto  months_since_last_claim  \\\n",
       "customer_lifetime_value                    0.404235                 0.011912   \n",
       "income                                    -0.002431                -0.026564   \n",
       "monthly_premium_auto                       1.000000                 0.010036   \n",
       "months_since_last_claim                    0.010036                 1.000000   \n",
       "months_since_policy_inception              0.019696                -0.034086   \n",
       "number_of_open_complaints                 -0.008811                 0.001204   \n",
       "number_of_policies                        -0.018805                 0.000814   \n",
       "total_claim_amount                         0.630149                 0.013874   \n",
       "\n",
       "                               months_since_policy_inception  \\\n",
       "customer_lifetime_value                             0.017055   \n",
       "income                                              0.003846   \n",
       "monthly_premium_auto                                0.019696   \n",
       "months_since_last_claim                            -0.034086   \n",
       "months_since_policy_inception                       1.000000   \n",
       "number_of_open_complaints                           0.002554   \n",
       "number_of_policies                                 -0.009719   \n",
       "total_claim_amount                                  0.004186   \n",
       "\n",
       "                               number_of_open_complaints  number_of_policies  \\\n",
       "customer_lifetime_value                        -0.032371            0.016789   \n",
       "income                                          0.018903           -0.004461   \n",
       "monthly_premium_auto                           -0.008811           -0.018805   \n",
       "months_since_last_claim                         0.001204            0.000814   \n",
       "months_since_policy_inception                   0.002554           -0.009719   \n",
       "number_of_open_complaints                       1.000000           -0.000303   \n",
       "number_of_policies                             -0.000303            1.000000   \n",
       "total_claim_amount                             -0.010668           -0.008019   \n",
       "\n",
       "                               total_claim_amount  \n",
       "customer_lifetime_value                  0.232849  \n",
       "income                                  -0.111221  \n",
       "monthly_premium_auto                     0.630149  \n",
       "months_since_last_claim                  0.013874  \n",
       "months_since_policy_inception            0.004186  \n",
       "number_of_open_complaints               -0.010668  \n",
       "number_of_policies                      -0.008019  \n",
       "total_claim_amount                       1.000000  "
      ]
     },
     "execution_count": 13,
     "metadata": {},
     "output_type": "execute_result"
    }
   ],
   "source": [
    "numerical.corr()"
   ]
  },
  {
   "cell_type": "markdown",
   "id": "de0176a4",
   "metadata": {},
   "source": [
    "Apart from displaying the data in a table, a quicker decision can be made by analyzing the same information in the shape of a heatmap.\n",
    "\n",
    "### Correlation heatmap\n",
    "\n",
    "Despite the information being exactly the same, we can visually distinguish the highest correlated variables within the heatmap:\n",
    "- Total claim amount\n",
    "- Monthly premium auto\n",
    "\n",
    "Despite standing out with respect to the other features, the correlation is not high enough (0.9) as to determine the need to drop any of them."
   ]
  },
  {
   "cell_type": "code",
   "execution_count": 14,
   "id": "0187f151",
   "metadata": {},
   "outputs": [
    {
     "data": {
      "image/png": "[encoded data removed]",
      "text/plain": [
       "<Figure size 648x504 with 2 Axes>"
      ]
     },
     "metadata": {},
     "output_type": "display_data"
    }
   ],
   "source": [
    "corr = numerical.corr()\n",
    "mask = np.zeros_like(corr)\n",
    "mask[np.triu_indices_from(mask)] = True\n",
    "with sns.axes_style(\"white\"):\n",
    "    f, ax = plt.subplots(figsize=(9, 7))\n",
    "    ax = sns.heatmap(corr, mask=mask,cmap='coolwarm', vmin=-1,vmax=1,annot=True, square=True)"
   ]
  },
  {
   "cell_type": "markdown",
   "id": "5504b917",
   "metadata": {},
   "source": [
    "# Drop features with correlation higher than 0.9\n",
    "\n",
    "Select which feature should be removed from the set of highly correlated features.\n"
   ]
  },
  {
   "cell_type": "markdown",
   "id": "b1d00925",
   "metadata": {},
   "source": [
    "## Summary\n",
    "\n",
    "**No correlation is higher than 0.9, hence there is no need to drop any feature.**\n",
    "\n",
    "If there were, rather than dropping all features at once, the following steps would be considered:\n",
    "\n",
    "- Calculation of the Variance Inflation Factor (VIF)\n",
    "- Discard the feature with highest VIF (preferrably VIF > 5)\n",
    "- Calculate correlation factor again\n",
    "- Repeat the process as long as there's a feature with a correlation higher than 0.9"
   ]
  },
  {
   "cell_type": "code",
   "execution_count": 15,
   "id": "b83cf1b7",
   "metadata": {},
   "outputs": [],
   "source": [
    "# load statmodels functions\n",
    "from statsmodels.stats.outliers_influence import variance_inflation_factor\n",
    "from statsmodels.tools.tools import add_constant\n",
    "\n",
    "# compute the vif for all given features\n",
    "def compute_vif(considered_features):\n",
    "    \n",
    "    X = numerical[considered_features]\n",
    "    # the calculation of variance inflation requires a constant\n",
    "    X['intercept'] = 1\n",
    "    \n",
    "    # create dataframe to store vif values\n",
    "    vif = pd.DataFrame()\n",
    "    vif[\"Variable\"] = X.columns\n",
    "    vif[\"VIF\"] = [variance_inflation_factor(X.values, i) for i in range(X.shape[1])]\n",
    "    vif = vif[vif['Variable']!='intercept']\n",
    "    return vif"
   ]
  },
  {
   "cell_type": "code",
   "execution_count": 16,
   "id": "91b64e39",
   "metadata": {},
   "outputs": [
    {
     "name": "stderr",
     "output_type": "stream",
     "text": [
      "/var/folders/8f/tmg8vtq91173zzcjhk5pbsdh0000gn/T/ipykernel_14901/2262381399.py:10: SettingWithCopyWarning: \n",
      "A value is trying to be set on a copy of a slice from a DataFrame.\n",
      "Try using .loc[row_indexer,col_indexer] = value instead\n",
      "\n",
      "See the caveats in the documentation: https://pandas.pydata.org/pandas-docs/stable/user_guide/indexing.html#returning-a-view-versus-a-copy\n",
      "  X['intercept'] = 1\n"
     ]
    },
    {
     "data": {
      "text/html": [
       "<div>\n",
       "<style scoped>\n",
       "    .dataframe tbody tr th:only-of-type {\n",
       "        vertical-align: middle;\n",
       "    }\n",
       "\n",
       "    .dataframe tbody tr th {\n",
       "        vertical-align: top;\n",
       "    }\n",
       "\n",
       "    .dataframe thead th {\n",
       "        text-align: right;\n",
       "    }\n",
       "</style>\n",
       "<table border=\"1\" class=\"dataframe\">\n",
       "  <thead>\n",
       "    <tr style=\"text-align: right;\">\n",
       "      <th></th>\n",
       "      <th>Variable</th>\n",
       "      <th>VIF</th>\n",
       "    </tr>\n",
       "  </thead>\n",
       "  <tbody>\n",
       "    <tr>\n",
       "      <th>0</th>\n",
       "      <td>monthly_premium_auto</td>\n",
       "      <td>1.876868</td>\n",
       "    </tr>\n",
       "    <tr>\n",
       "      <th>2</th>\n",
       "      <td>total_claim_amount</td>\n",
       "      <td>1.660190</td>\n",
       "    </tr>\n",
       "    <tr>\n",
       "      <th>1</th>\n",
       "      <td>customer_lifetime_value</td>\n",
       "      <td>1.196458</td>\n",
       "    </tr>\n",
       "  </tbody>\n",
       "</table>\n",
       "</div>"
      ],
      "text/plain": [
       "                  Variable       VIF\n",
       "0     monthly_premium_auto  1.876868\n",
       "2       total_claim_amount  1.660190\n",
       "1  customer_lifetime_value  1.196458"
      ]
     },
     "execution_count": 16,
     "metadata": {},
     "output_type": "execute_result"
    }
   ],
   "source": [
    "# features to consider removing\n",
    "considered_features = ['monthly_premium_auto', 'customer_lifetime_value', 'total_claim_amount']\n",
    "\n",
    "\n",
    "# compute vif \n",
    "compute_vif(considered_features).sort_values('VIF', ascending=False)"
   ]
  },
  {
   "cell_type": "markdown",
   "id": "fec9011d",
   "metadata": {},
   "source": []
  },
  {
   "cell_type": "markdown",
   "id": "85b45e70",
   "metadata": {},
   "source": [
    "# Day 4 "
   ]
  },
  {
   "cell_type": "markdown",
   "id": "591d7577",
   "metadata": {},
   "source": [
    "### Plot of the total number of responses."
   ]
  },
  {
   "cell_type": "code",
   "execution_count": 17,
   "id": "3c1ae35a",
   "metadata": {},
   "outputs": [
    {
     "data": {
      "text/plain": [
       "no     9316\n",
       "yes    1373\n",
       "Name: response, dtype: int64"
      ]
     },
     "execution_count": 17,
     "metadata": {},
     "output_type": "execute_result"
    }
   ],
   "source": [
    "responses = categoricals['response'].value_counts()\n",
    "responses"
   ]
  },
  {
   "cell_type": "code",
   "execution_count": 18,
   "id": "9516aa40",
   "metadata": {},
   "outputs": [
    {
     "data": {
      "text/plain": [
       "Text(0, 0.5, 'Amount of responses')"
      ]
     },
     "execution_count": 18,
     "metadata": {},
     "output_type": "execute_result"
    },
    {
     "data": {
      "image/png": "[encoded data removed]",
      "text/plain": [
       "<Figure size 432x288 with 1 Axes>"
      ]
     },
     "metadata": {
      "needs_background": "light"
     },
     "output_type": "display_data"
    }
   ],
   "source": [
    "# Create figure and axes\n",
    "plt.bar(responses.index, responses, color=('grey','green'))\n",
    "# set title\n",
    "plt.title('Response Rate', fontweight='bold')\n",
    "plt.xticks(ticks=[0,1],labels=[\"No\",\"Yes\"])\n",
    "plt.ylabel(\"Amount of responses\")\n",
    "\n"
   ]
  },
  {
   "cell_type": "code",
   "execution_count": 19,
   "id": "ae6c5812",
   "metadata": {},
   "outputs": [
    {
     "data": {
      "text/plain": [
       "agent          4019\n",
       "branch         2975\n",
       "call center    2099\n",
       "web            1596\n",
       "Name: sales_channel, dtype: int64"
      ]
     },
     "execution_count": 19,
     "metadata": {},
     "output_type": "execute_result"
    }
   ],
   "source": [
    "sales_channel = categoricals['sales_channel'].value_counts()\n",
    "sales_channel"
   ]
  },
  {
   "cell_type": "code",
   "execution_count": 20,
   "id": "a7e84e21",
   "metadata": {},
   "outputs": [],
   "source": [
    "sales_ch_response = categoricals.groupby(['sales_channel', 'response'])['response'].count().rename('count').reset_index()\n",
    "sales_channel_agent = sales_ch_response[sales_ch_response['sales_channel']=='agent']\n",
    "sales_channel_branch = sales_ch_response[sales_ch_response['sales_channel']=='branch']\n",
    "sales_channel_call_center = sales_ch_response[sales_ch_response['sales_channel']=='call center']\n",
    "sales_channel_web = sales_ch_response[sales_ch_response['sales_channel']=='web']\n",
    "\n"
   ]
  },
  {
   "cell_type": "code",
   "execution_count": 21,
   "id": "61508449",
   "metadata": {},
   "outputs": [
    {
     "data": {
      "text/html": [
       "<div>\n",
       "<style scoped>\n",
       "    .dataframe tbody tr th:only-of-type {\n",
       "        vertical-align: middle;\n",
       "    }\n",
       "\n",
       "    .dataframe tbody tr th {\n",
       "        vertical-align: top;\n",
       "    }\n",
       "\n",
       "    .dataframe thead th {\n",
       "        text-align: right;\n",
       "    }\n",
       "</style>\n",
       "<table border=\"1\" class=\"dataframe\">\n",
       "  <thead>\n",
       "    <tr style=\"text-align: right;\">\n",
       "      <th></th>\n",
       "      <th>sales_channel</th>\n",
       "      <th>response</th>\n",
       "      <th>count</th>\n",
       "    </tr>\n",
       "  </thead>\n",
       "  <tbody>\n",
       "    <tr>\n",
       "      <th>0</th>\n",
       "      <td>agent</td>\n",
       "      <td>no</td>\n",
       "      <td>3340</td>\n",
       "    </tr>\n",
       "    <tr>\n",
       "      <th>1</th>\n",
       "      <td>agent</td>\n",
       "      <td>yes</td>\n",
       "      <td>679</td>\n",
       "    </tr>\n",
       "    <tr>\n",
       "      <th>2</th>\n",
       "      <td>branch</td>\n",
       "      <td>no</td>\n",
       "      <td>2665</td>\n",
       "    </tr>\n",
       "    <tr>\n",
       "      <th>3</th>\n",
       "      <td>branch</td>\n",
       "      <td>yes</td>\n",
       "      <td>310</td>\n",
       "    </tr>\n",
       "    <tr>\n",
       "      <th>4</th>\n",
       "      <td>call center</td>\n",
       "      <td>no</td>\n",
       "      <td>1890</td>\n",
       "    </tr>\n",
       "    <tr>\n",
       "      <th>5</th>\n",
       "      <td>call center</td>\n",
       "      <td>yes</td>\n",
       "      <td>209</td>\n",
       "    </tr>\n",
       "    <tr>\n",
       "      <th>6</th>\n",
       "      <td>web</td>\n",
       "      <td>no</td>\n",
       "      <td>1421</td>\n",
       "    </tr>\n",
       "    <tr>\n",
       "      <th>7</th>\n",
       "      <td>web</td>\n",
       "      <td>yes</td>\n",
       "      <td>175</td>\n",
       "    </tr>\n",
       "  </tbody>\n",
       "</table>\n",
       "</div>"
      ],
      "text/plain": [
       "  sales_channel response  count\n",
       "0         agent       no   3340\n",
       "1         agent      yes    679\n",
       "2        branch       no   2665\n",
       "3        branch      yes    310\n",
       "4   call center       no   1890\n",
       "5   call center      yes    209\n",
       "6           web       no   1421\n",
       "7           web      yes    175"
      ]
     },
     "execution_count": 21,
     "metadata": {},
     "output_type": "execute_result"
    }
   ],
   "source": [
    "sales_ch_response"
   ]
  },
  {
   "cell_type": "code",
   "execution_count": 22,
   "id": "d6886952",
   "metadata": {},
   "outputs": [
    {
     "data": {
      "text/plain": [
       "Text(0.5, 1.0, 'Web')"
      ]
     },
     "execution_count": 22,
     "metadata": {},
     "output_type": "execute_result"
    },
    {
     "data": {
      "image/png": "[encoded data removed]",
      "text/plain": [
       "<Figure size 1440x288 with 4 Axes>"
      ]
     },
     "metadata": {
      "needs_background": "light"
     },
     "output_type": "display_data"
    }
   ],
   "source": [
    "fig5, axes5 = plt.subplots(1,4,figsize=(20,4))\n",
    "\n",
    "sns.barplot(x='sales_channel', y='count', hue = 'response', data = sales_channel_agent, ax = axes5[0])\n",
    "axes5[0].set_title('Agents')\n",
    "sns.barplot(x='sales_channel', y='count', hue = 'response', data = sales_channel_branch, ax = axes5[1])\n",
    "axes5[1].set_title('Branch')\n",
    "sns.barplot(x='sales_channel', y='count', hue = 'response', data = sales_channel_call_center, ax = axes5[2])\n",
    "axes5[2].set_title('Call Center')\n",
    "sns.barplot(x='sales_channel', y='count', hue = 'response', data = sales_channel_web, ax = axes5[3])\n",
    "axes5[3].set_title('Web')"
   ]
  },
  {
   "cell_type": "code",
   "execution_count": 23,
   "id": "34500dd0",
   "metadata": {},
   "outputs": [
    {
     "data": {
      "text/html": [
       "<div>\n",
       "<style scoped>\n",
       "    .dataframe tbody tr th:only-of-type {\n",
       "        vertical-align: middle;\n",
       "    }\n",
       "\n",
       "    .dataframe tbody tr th {\n",
       "        vertical-align: top;\n",
       "    }\n",
       "\n",
       "    .dataframe thead th {\n",
       "        text-align: right;\n",
       "    }\n",
       "</style>\n",
       "<table border=\"1\" class=\"dataframe\">\n",
       "  <thead>\n",
       "    <tr style=\"text-align: right;\">\n",
       "      <th></th>\n",
       "      <th>total_claim_amount</th>\n",
       "      <th>response</th>\n",
       "      <th>count</th>\n",
       "    </tr>\n",
       "  </thead>\n",
       "  <tbody>\n",
       "    <tr>\n",
       "      <th>0</th>\n",
       "      <td>0</td>\n",
       "      <td>no</td>\n",
       "      <td>9</td>\n",
       "    </tr>\n",
       "    <tr>\n",
       "      <th>1</th>\n",
       "      <td>1</td>\n",
       "      <td>no</td>\n",
       "      <td>9</td>\n",
       "    </tr>\n",
       "    <tr>\n",
       "      <th>2</th>\n",
       "      <td>2</td>\n",
       "      <td>no</td>\n",
       "      <td>12</td>\n",
       "    </tr>\n",
       "    <tr>\n",
       "      <th>3</th>\n",
       "      <td>3</td>\n",
       "      <td>no</td>\n",
       "      <td>9</td>\n",
       "    </tr>\n",
       "    <tr>\n",
       "      <th>4</th>\n",
       "      <td>4</td>\n",
       "      <td>no</td>\n",
       "      <td>12</td>\n",
       "    </tr>\n",
       "    <tr>\n",
       "      <th>...</th>\n",
       "      <td>...</td>\n",
       "      <td>...</td>\n",
       "      <td>...</td>\n",
       "    </tr>\n",
       "    <tr>\n",
       "      <th>1358</th>\n",
       "      <td>2345</td>\n",
       "      <td>no</td>\n",
       "      <td>1</td>\n",
       "    </tr>\n",
       "    <tr>\n",
       "      <th>1359</th>\n",
       "      <td>2452</td>\n",
       "      <td>no</td>\n",
       "      <td>1</td>\n",
       "    </tr>\n",
       "    <tr>\n",
       "      <th>1360</th>\n",
       "      <td>2552</td>\n",
       "      <td>no</td>\n",
       "      <td>2</td>\n",
       "    </tr>\n",
       "    <tr>\n",
       "      <th>1361</th>\n",
       "      <td>2759</td>\n",
       "      <td>no</td>\n",
       "      <td>1</td>\n",
       "    </tr>\n",
       "    <tr>\n",
       "      <th>1362</th>\n",
       "      <td>2893</td>\n",
       "      <td>no</td>\n",
       "      <td>1</td>\n",
       "    </tr>\n",
       "  </tbody>\n",
       "</table>\n",
       "<p>1363 rows × 3 columns</p>\n",
       "</div>"
      ],
      "text/plain": [
       "      total_claim_amount response  count\n",
       "0                      0       no      9\n",
       "1                      1       no      9\n",
       "2                      2       no     12\n",
       "3                      3       no      9\n",
       "4                      4       no     12\n",
       "...                  ...      ...    ...\n",
       "1358                2345       no      1\n",
       "1359                2452       no      1\n",
       "1360                2552       no      2\n",
       "1361                2759       no      1\n",
       "1362                2893       no      1\n",
       "\n",
       "[1363 rows x 3 columns]"
      ]
     },
     "execution_count": 23,
     "metadata": {},
     "output_type": "execute_result"
    }
   ],
   "source": [
    "total_claim_response = data.groupby(['total_claim_amount','response'])['response'].count().rename('count').reset_index()\n",
    "total_claim_response"
   ]
  },
  {
   "cell_type": "code",
   "execution_count": 24,
   "id": "b2aad48f",
   "metadata": {
    "scrolled": true
   },
   "outputs": [
    {
     "data": {
      "image/png": "[encoded data removed]",
      "text/plain": [
       "<Figure size 720x360 with 2 Axes>"
      ]
     },
     "metadata": {
      "needs_background": "light"
     },
     "output_type": "display_data"
    }
   ],
   "source": [
    "fg6 = sns.catplot(x='total_claim_amount', y = 'count', data = total_claim_response, col='response', kind='bar')\n"
   ]
  },
  {
   "cell_type": "markdown",
   "id": "5620ad1c",
   "metadata": {},
   "source": [
    "The graph is too atomized as to be able to make any kind of conclusion. In order to be able to view some information, the claim amount will be grouped."
   ]
  },
  {
   "cell_type": "code",
   "execution_count": 26,
   "id": "4d148f82",
   "metadata": {},
   "outputs": [
    {
     "data": {
      "text/plain": [
       "count    10689.000000\n",
       "mean       434.227243\n",
       "std        292.550878\n",
       "min          0.000000\n",
       "25%        269.000000\n",
       "50%        383.000000\n",
       "75%        547.000000\n",
       "max       2893.000000\n",
       "Name: total_claim_amount, dtype: float64"
      ]
     },
     "execution_count": 26,
     "metadata": {},
     "output_type": "execute_result"
    }
   ],
   "source": [
    "data[\"total_claim_amount\"].describe()"
   ]
  },
  {
   "cell_type": "code",
   "execution_count": 25,
   "id": "4825c351",
   "metadata": {
    "scrolled": false
   },
   "outputs": [
    {
     "data": {
      "text/plain": [
       "316     147\n",
       "292     143\n",
       "350     137\n",
       "312     128\n",
       "331     123\n",
       "       ... \n",
       "816       1\n",
       "1980      1\n",
       "1543      1\n",
       "1562      1\n",
       "1621      1\n",
       "Name: total_claim_amount, Length: 1172, dtype: int64"
      ]
     },
     "execution_count": 25,
     "metadata": {},
     "output_type": "execute_result"
    }
   ],
   "source": [
    "data[\"total_claim_amount\"].value_counts()"
   ]
  },
  {
   "cell_type": "code",
   "execution_count": null,
   "id": "5ac371e1",
   "metadata": {
    "scrolled": false
   },
   "outputs": [],
   "source": [
    "data[\"total_claim_amount\"].describe()"
   ]
  },
  {
   "cell_type": "code",
   "execution_count": 73,
   "id": "bb73d583",
   "metadata": {},
   "outputs": [],
   "source": [
    "def claim_groups ():\n",
    "    data.loc[data[\"total_claim_amount\"]<=100,\"total_claim_group\"]=\" 100\"\n",
    "    data.loc[data[\"total_claim_amount\"]>100,\"total_claim_group\"]=\" 200\"\n",
    "    data.loc[data[\"total_claim_amount\"]>200,\"total_claim_group\"]=\" 300\"\n",
    "    data.loc[data[\"total_claim_amount\"]>300,\"total_claim_group\"]=\" 400\"\n",
    "    data.loc[data[\"total_claim_amount\"]>400,\"total_claim_group\"]=\" 500\"\n",
    "    data.loc[data[\"total_claim_amount\"]>500,\"total_claim_group\"]=\" 600\"\n",
    "    data.loc[data[\"total_claim_amount\"]>600,\"total_claim_group\"]=\" 700\"\n",
    "    data.loc[data[\"total_claim_amount\"]>700,\"total_claim_group\"]=\" 800\"\n",
    "    data.loc[data[\"total_claim_amount\"]>800,\"total_claim_group\"]=\" 900\"\n",
    "    data.loc[data[\"total_claim_amount\"]>900,\"total_claim_group\"]=\"1,000\"\n",
    "    data.loc[data[\"total_claim_amount\"]>1000,\"total_claim_group\"]=\"Over 1,000 \"\n",
    "    return data"
   ]
  },
  {
   "cell_type": "code",
   "execution_count": 74,
   "id": "ed4a2f2f",
   "metadata": {
    "scrolled": true
   },
   "outputs": [
    {
     "data": {
      "text/html": [
       "<div>\n",
       "<style scoped>\n",
       "    .dataframe tbody tr th:only-of-type {\n",
       "        vertical-align: middle;\n",
       "    }\n",
       "\n",
       "    .dataframe tbody tr th {\n",
       "        vertical-align: top;\n",
       "    }\n",
       "\n",
       "    .dataframe thead th {\n",
       "        text-align: right;\n",
       "    }\n",
       "</style>\n",
       "<table border=\"1\" class=\"dataframe\">\n",
       "  <thead>\n",
       "    <tr style=\"text-align: right;\">\n",
       "      <th></th>\n",
       "      <th>region</th>\n",
       "      <th>customer_lifetime_value</th>\n",
       "      <th>response</th>\n",
       "      <th>coverage</th>\n",
       "      <th>education</th>\n",
       "      <th>effective_to_date</th>\n",
       "      <th>month</th>\n",
       "      <th>employment_status</th>\n",
       "      <th>gender</th>\n",
       "      <th>income</th>\n",
       "      <th>...</th>\n",
       "      <th>number_of_open_complaints</th>\n",
       "      <th>number_of_policies</th>\n",
       "      <th>policy_type</th>\n",
       "      <th>policy</th>\n",
       "      <th>renew_offer_type</th>\n",
       "      <th>sales_channel</th>\n",
       "      <th>total_claim_amount</th>\n",
       "      <th>vehicle_class</th>\n",
       "      <th>vehicle_size</th>\n",
       "      <th>total_claim_group</th>\n",
       "    </tr>\n",
       "  </thead>\n",
       "  <tbody>\n",
       "    <tr>\n",
       "      <th>0</th>\n",
       "      <td>central</td>\n",
       "      <td>4809</td>\n",
       "      <td>no</td>\n",
       "      <td>basic</td>\n",
       "      <td>college</td>\n",
       "      <td>2/18/11</td>\n",
       "      <td>feb</td>\n",
       "      <td>employed</td>\n",
       "      <td>m</td>\n",
       "      <td>48029</td>\n",
       "      <td>...</td>\n",
       "      <td>0</td>\n",
       "      <td>9</td>\n",
       "      <td>corporate auto</td>\n",
       "      <td>corporate l3</td>\n",
       "      <td>offer3</td>\n",
       "      <td>agent</td>\n",
       "      <td>292</td>\n",
       "      <td>four-door car</td>\n",
       "      <td>medsize</td>\n",
       "      <td>300</td>\n",
       "    </tr>\n",
       "    <tr>\n",
       "      <th>1</th>\n",
       "      <td>west region</td>\n",
       "      <td>2228</td>\n",
       "      <td>no</td>\n",
       "      <td>basic</td>\n",
       "      <td>college</td>\n",
       "      <td>1/18/11</td>\n",
       "      <td>jan</td>\n",
       "      <td>unemployed</td>\n",
       "      <td>f</td>\n",
       "      <td>92260</td>\n",
       "      <td>...</td>\n",
       "      <td>0</td>\n",
       "      <td>1</td>\n",
       "      <td>personal auto</td>\n",
       "      <td>personal l3</td>\n",
       "      <td>offer4</td>\n",
       "      <td>call center</td>\n",
       "      <td>744</td>\n",
       "      <td>four-door car</td>\n",
       "      <td>medsize</td>\n",
       "      <td>800</td>\n",
       "    </tr>\n",
       "    <tr>\n",
       "      <th>2</th>\n",
       "      <td>east</td>\n",
       "      <td>14947</td>\n",
       "      <td>no</td>\n",
       "      <td>basic</td>\n",
       "      <td>bachelor</td>\n",
       "      <td>2/10/11</td>\n",
       "      <td>feb</td>\n",
       "      <td>employed</td>\n",
       "      <td>m</td>\n",
       "      <td>22139</td>\n",
       "      <td>...</td>\n",
       "      <td>0</td>\n",
       "      <td>2</td>\n",
       "      <td>personal auto</td>\n",
       "      <td>personal l3</td>\n",
       "      <td>offer3</td>\n",
       "      <td>call center</td>\n",
       "      <td>480</td>\n",
       "      <td>suv</td>\n",
       "      <td>medsize</td>\n",
       "      <td>500</td>\n",
       "    </tr>\n",
       "    <tr>\n",
       "      <th>3</th>\n",
       "      <td>north west</td>\n",
       "      <td>22332</td>\n",
       "      <td>yes</td>\n",
       "      <td>extended</td>\n",
       "      <td>college</td>\n",
       "      <td>1/11/11</td>\n",
       "      <td>jan</td>\n",
       "      <td>employed</td>\n",
       "      <td>m</td>\n",
       "      <td>49078</td>\n",
       "      <td>...</td>\n",
       "      <td>0</td>\n",
       "      <td>2</td>\n",
       "      <td>corporate auto</td>\n",
       "      <td>corporate l3</td>\n",
       "      <td>offer2</td>\n",
       "      <td>branch</td>\n",
       "      <td>484</td>\n",
       "      <td>four-door car</td>\n",
       "      <td>medsize</td>\n",
       "      <td>500</td>\n",
       "    </tr>\n",
       "    <tr>\n",
       "      <th>4</th>\n",
       "      <td>north west</td>\n",
       "      <td>9025</td>\n",
       "      <td>no</td>\n",
       "      <td>premium</td>\n",
       "      <td>bachelor</td>\n",
       "      <td>1/17/11</td>\n",
       "      <td>jan</td>\n",
       "      <td>medical leave</td>\n",
       "      <td>f</td>\n",
       "      <td>23675</td>\n",
       "      <td>...</td>\n",
       "      <td>0</td>\n",
       "      <td>7</td>\n",
       "      <td>personal auto</td>\n",
       "      <td>personal l2</td>\n",
       "      <td>offer1</td>\n",
       "      <td>branch</td>\n",
       "      <td>707</td>\n",
       "      <td>four-door car</td>\n",
       "      <td>medsize</td>\n",
       "      <td>800</td>\n",
       "    </tr>\n",
       "  </tbody>\n",
       "</table>\n",
       "<p>5 rows × 25 columns</p>\n",
       "</div>"
      ],
      "text/plain": [
       "        region  customer_lifetime_value response  coverage education  \\\n",
       "0      central                     4809       no     basic   college   \n",
       "1  west region                     2228       no     basic   college   \n",
       "2         east                    14947       no     basic  bachelor   \n",
       "3   north west                    22332      yes  extended   college   \n",
       "4   north west                     9025       no   premium  bachelor   \n",
       "\n",
       "  effective_to_date month employment_status gender  income  ...  \\\n",
       "0           2/18/11   feb          employed      m   48029  ...   \n",
       "1           1/18/11   jan        unemployed      f   92260  ...   \n",
       "2           2/10/11   feb          employed      m   22139  ...   \n",
       "3           1/11/11   jan          employed      m   49078  ...   \n",
       "4           1/17/11   jan     medical leave      f   23675  ...   \n",
       "\n",
       "  number_of_open_complaints number_of_policies     policy_type        policy  \\\n",
       "0                         0                  9  corporate auto  corporate l3   \n",
       "1                         0                  1   personal auto   personal l3   \n",
       "2                         0                  2   personal auto   personal l3   \n",
       "3                         0                  2  corporate auto  corporate l3   \n",
       "4                         0                  7   personal auto   personal l2   \n",
       "\n",
       "   renew_offer_type  sales_channel  total_claim_amount  vehicle_class  \\\n",
       "0            offer3          agent                 292  four-door car   \n",
       "1            offer4    call center                 744  four-door car   \n",
       "2            offer3    call center                 480            suv   \n",
       "3            offer2         branch                 484  four-door car   \n",
       "4            offer1         branch                 707  four-door car   \n",
       "\n",
       "  vehicle_size total_claim_group  \n",
       "0      medsize               300  \n",
       "1      medsize               800  \n",
       "2      medsize               500  \n",
       "3      medsize               500  \n",
       "4      medsize               800  \n",
       "\n",
       "[5 rows x 25 columns]"
      ]
     },
     "execution_count": 74,
     "metadata": {},
     "output_type": "execute_result"
    }
   ],
   "source": [
    "data_w_claim = claim_groups()\n",
    "data_w_claim.head()"
   ]
  },
  {
   "cell_type": "code",
   "execution_count": 75,
   "id": "c60f1ec0",
   "metadata": {
    "scrolled": true
   },
   "outputs": [
    {
     "data": {
      "text/html": [
       "<div>\n",
       "<style scoped>\n",
       "    .dataframe tbody tr th:only-of-type {\n",
       "        vertical-align: middle;\n",
       "    }\n",
       "\n",
       "    .dataframe tbody tr th {\n",
       "        vertical-align: top;\n",
       "    }\n",
       "\n",
       "    .dataframe thead th {\n",
       "        text-align: right;\n",
       "    }\n",
       "</style>\n",
       "<table border=\"1\" class=\"dataframe\">\n",
       "  <thead>\n",
       "    <tr style=\"text-align: right;\">\n",
       "      <th></th>\n",
       "      <th>total_claim_group</th>\n",
       "      <th>response</th>\n",
       "      <th>count</th>\n",
       "    </tr>\n",
       "  </thead>\n",
       "  <tbody>\n",
       "    <tr>\n",
       "      <th>0</th>\n",
       "      <td>100</td>\n",
       "      <td>no</td>\n",
       "      <td>958</td>\n",
       "    </tr>\n",
       "    <tr>\n",
       "      <th>1</th>\n",
       "      <td>100</td>\n",
       "      <td>yes</td>\n",
       "      <td>88</td>\n",
       "    </tr>\n",
       "    <tr>\n",
       "      <th>2</th>\n",
       "      <td>200</td>\n",
       "      <td>no</td>\n",
       "      <td>884</td>\n",
       "    </tr>\n",
       "    <tr>\n",
       "      <th>3</th>\n",
       "      <td>200</td>\n",
       "      <td>yes</td>\n",
       "      <td>77</td>\n",
       "    </tr>\n",
       "    <tr>\n",
       "      <th>4</th>\n",
       "      <td>300</td>\n",
       "      <td>no</td>\n",
       "      <td>1076</td>\n",
       "    </tr>\n",
       "    <tr>\n",
       "      <th>5</th>\n",
       "      <td>300</td>\n",
       "      <td>yes</td>\n",
       "      <td>118</td>\n",
       "    </tr>\n",
       "    <tr>\n",
       "      <th>6</th>\n",
       "      <td>400</td>\n",
       "      <td>no</td>\n",
       "      <td>2035</td>\n",
       "    </tr>\n",
       "    <tr>\n",
       "      <th>7</th>\n",
       "      <td>400</td>\n",
       "      <td>yes</td>\n",
       "      <td>379</td>\n",
       "    </tr>\n",
       "    <tr>\n",
       "      <th>8</th>\n",
       "      <td>500</td>\n",
       "      <td>no</td>\n",
       "      <td>1417</td>\n",
       "    </tr>\n",
       "    <tr>\n",
       "      <th>9</th>\n",
       "      <td>500</td>\n",
       "      <td>yes</td>\n",
       "      <td>220</td>\n",
       "    </tr>\n",
       "    <tr>\n",
       "      <th>10</th>\n",
       "      <td>600</td>\n",
       "      <td>no</td>\n",
       "      <td>1068</td>\n",
       "    </tr>\n",
       "    <tr>\n",
       "      <th>11</th>\n",
       "      <td>600</td>\n",
       "      <td>yes</td>\n",
       "      <td>259</td>\n",
       "    </tr>\n",
       "    <tr>\n",
       "      <th>12</th>\n",
       "      <td>700</td>\n",
       "      <td>no</td>\n",
       "      <td>607</td>\n",
       "    </tr>\n",
       "    <tr>\n",
       "      <th>13</th>\n",
       "      <td>700</td>\n",
       "      <td>yes</td>\n",
       "      <td>104</td>\n",
       "    </tr>\n",
       "    <tr>\n",
       "      <th>14</th>\n",
       "      <td>800</td>\n",
       "      <td>no</td>\n",
       "      <td>385</td>\n",
       "    </tr>\n",
       "    <tr>\n",
       "      <th>15</th>\n",
       "      <td>800</td>\n",
       "      <td>yes</td>\n",
       "      <td>36</td>\n",
       "    </tr>\n",
       "    <tr>\n",
       "      <th>16</th>\n",
       "      <td>900</td>\n",
       "      <td>no</td>\n",
       "      <td>269</td>\n",
       "    </tr>\n",
       "    <tr>\n",
       "      <th>17</th>\n",
       "      <td>900</td>\n",
       "      <td>yes</td>\n",
       "      <td>21</td>\n",
       "    </tr>\n",
       "    <tr>\n",
       "      <th>18</th>\n",
       "      <td>1,000</td>\n",
       "      <td>no</td>\n",
       "      <td>205</td>\n",
       "    </tr>\n",
       "    <tr>\n",
       "      <th>19</th>\n",
       "      <td>1,000</td>\n",
       "      <td>yes</td>\n",
       "      <td>8</td>\n",
       "    </tr>\n",
       "    <tr>\n",
       "      <th>20</th>\n",
       "      <td>Over 1,000</td>\n",
       "      <td>no</td>\n",
       "      <td>412</td>\n",
       "    </tr>\n",
       "    <tr>\n",
       "      <th>21</th>\n",
       "      <td>Over 1,000</td>\n",
       "      <td>yes</td>\n",
       "      <td>63</td>\n",
       "    </tr>\n",
       "  </tbody>\n",
       "</table>\n",
       "</div>"
      ],
      "text/plain": [
       "   total_claim_group response  count\n",
       "0                100       no    958\n",
       "1                100      yes     88\n",
       "2                200       no    884\n",
       "3                200      yes     77\n",
       "4                300       no   1076\n",
       "5                300      yes    118\n",
       "6                400       no   2035\n",
       "7                400      yes    379\n",
       "8                500       no   1417\n",
       "9                500      yes    220\n",
       "10               600       no   1068\n",
       "11               600      yes    259\n",
       "12               700       no    607\n",
       "13               700      yes    104\n",
       "14               800       no    385\n",
       "15               800      yes     36\n",
       "16               900       no    269\n",
       "17               900      yes     21\n",
       "18             1,000       no    205\n",
       "19             1,000      yes      8\n",
       "20       Over 1,000        no    412\n",
       "21       Over 1,000       yes     63"
      ]
     },
     "execution_count": 75,
     "metadata": {},
     "output_type": "execute_result"
    }
   ],
   "source": [
    "claim_group_response = data_w_claim.groupby(['total_claim_group','response'])['response'].count().rename('count').reset_index()\n",
    "claim_group_response"
   ]
  },
  {
   "cell_type": "code",
   "execution_count": 76,
   "id": "30a4320a",
   "metadata": {},
   "outputs": [
    {
     "data": {
      "image/png": "[encoded data removed]",
      "text/plain": [
       "<Figure size 720x360 with 2 Axes>"
      ]
     },
     "metadata": {
      "needs_background": "light"
     },
     "output_type": "display_data"
    }
   ],
   "source": [
    "fg8 = sns.catplot(x='total_claim_group', y = 'count', data = claim_group_response, col='response', kind='bar')\n"
   ]
  },
  {
   "cell_type": "markdown",
   "id": "1c865a4f",
   "metadata": {},
   "source": [
    "### Response by income\n",
    "\n",
    "Given that the amount of incomes could be considered as infinite options (or continuous), different groups of income ranges have been created to treat it as a discrete distribution. "
   ]
  },
  {
   "cell_type": "code",
   "execution_count": 83,
   "id": "37071adc",
   "metadata": {},
   "outputs": [
    {
     "data": {
      "text/html": [
       "<div>\n",
       "<style scoped>\n",
       "    .dataframe tbody tr th:only-of-type {\n",
       "        vertical-align: middle;\n",
       "    }\n",
       "\n",
       "    .dataframe tbody tr th {\n",
       "        vertical-align: top;\n",
       "    }\n",
       "\n",
       "    .dataframe thead th {\n",
       "        text-align: right;\n",
       "    }\n",
       "</style>\n",
       "<table border=\"1\" class=\"dataframe\">\n",
       "  <thead>\n",
       "    <tr style=\"text-align: right;\">\n",
       "      <th></th>\n",
       "      <th>income</th>\n",
       "      <th>response</th>\n",
       "      <th>count</th>\n",
       "    </tr>\n",
       "  </thead>\n",
       "  <tbody>\n",
       "    <tr>\n",
       "      <th>0</th>\n",
       "      <td>10037</td>\n",
       "      <td>no</td>\n",
       "      <td>1</td>\n",
       "    </tr>\n",
       "    <tr>\n",
       "      <th>1</th>\n",
       "      <td>10074</td>\n",
       "      <td>no</td>\n",
       "      <td>1</td>\n",
       "    </tr>\n",
       "    <tr>\n",
       "      <th>2</th>\n",
       "      <td>10088</td>\n",
       "      <td>no</td>\n",
       "      <td>1</td>\n",
       "    </tr>\n",
       "    <tr>\n",
       "      <th>3</th>\n",
       "      <td>10097</td>\n",
       "      <td>no</td>\n",
       "      <td>2</td>\n",
       "    </tr>\n",
       "    <tr>\n",
       "      <th>4</th>\n",
       "      <td>10105</td>\n",
       "      <td>no</td>\n",
       "      <td>1</td>\n",
       "    </tr>\n",
       "    <tr>\n",
       "      <th>...</th>\n",
       "      <td>...</td>\n",
       "      <td>...</td>\n",
       "      <td>...</td>\n",
       "    </tr>\n",
       "    <tr>\n",
       "      <th>8344</th>\n",
       "      <td>99934</td>\n",
       "      <td>no</td>\n",
       "      <td>1</td>\n",
       "    </tr>\n",
       "    <tr>\n",
       "      <th>8345</th>\n",
       "      <td>99960</td>\n",
       "      <td>no</td>\n",
       "      <td>1</td>\n",
       "    </tr>\n",
       "    <tr>\n",
       "      <th>8346</th>\n",
       "      <td>99961</td>\n",
       "      <td>no</td>\n",
       "      <td>1</td>\n",
       "    </tr>\n",
       "    <tr>\n",
       "      <th>8347</th>\n",
       "      <td>99971</td>\n",
       "      <td>no</td>\n",
       "      <td>1</td>\n",
       "    </tr>\n",
       "    <tr>\n",
       "      <th>8348</th>\n",
       "      <td>99981</td>\n",
       "      <td>no</td>\n",
       "      <td>1</td>\n",
       "    </tr>\n",
       "  </tbody>\n",
       "</table>\n",
       "<p>8349 rows × 3 columns</p>\n",
       "</div>"
      ],
      "text/plain": [
       "      income response  count\n",
       "0      10037       no      1\n",
       "1      10074       no      1\n",
       "2      10088       no      1\n",
       "3      10097       no      2\n",
       "4      10105       no      1\n",
       "...      ...      ...    ...\n",
       "8344   99934       no      1\n",
       "8345   99960       no      1\n",
       "8346   99961       no      1\n",
       "8347   99971       no      1\n",
       "8348   99981       no      1\n",
       "\n",
       "[8349 rows x 3 columns]"
      ]
     },
     "execution_count": 83,
     "metadata": {},
     "output_type": "execute_result"
    }
   ],
   "source": [
    "income_response = data.groupby(['income','response'])['response'].count().rename('count').reset_index()\n",
    "income_response"
   ]
  },
  {
   "cell_type": "code",
   "execution_count": 84,
   "id": "5548437d",
   "metadata": {},
   "outputs": [
    {
     "data": {
      "text/plain": [
       "count    10689.000000\n",
       "mean     51750.243989\n",
       "std      24778.053035\n",
       "min      10037.000000\n",
       "25%      29335.000000\n",
       "50%      50398.000000\n",
       "75%      72131.000000\n",
       "max      99981.000000\n",
       "Name: income, dtype: float64"
      ]
     },
     "execution_count": 84,
     "metadata": {},
     "output_type": "execute_result"
    }
   ],
   "source": [
    "numerical['income'].describe()"
   ]
  },
  {
   "cell_type": "code",
   "execution_count": 85,
   "id": "f58aec4d",
   "metadata": {},
   "outputs": [
    {
     "data": {
      "image/png": "[encoded data removed]",
      "text/plain": [
       "<Figure size 432x288 with 1 Axes>"
      ]
     },
     "metadata": {
      "needs_background": "light"
     },
     "output_type": "display_data"
    }
   ],
   "source": [
    "ax = sns.boxplot(x=numerical[\"income\"])"
   ]
  },
  {
   "cell_type": "code",
   "execution_count": 86,
   "id": "c8d01bfd",
   "metadata": {},
   "outputs": [
    {
     "data": {
      "text/plain": [
       "income       int64\n",
       "response    object\n",
       "count        int64\n",
       "dtype: object"
      ]
     },
     "execution_count": 86,
     "metadata": {},
     "output_type": "execute_result"
    }
   ],
   "source": [
    "income_response.dtypes"
   ]
  },
  {
   "cell_type": "code",
   "execution_count": 87,
   "id": "a4bf6f49",
   "metadata": {},
   "outputs": [],
   "source": [
    "def income_groups ():\n",
    "    data.loc[data[\"income\"]<=30000,\"income_group\"]=\"<= 30,000\"\n",
    "    data.loc[data[\"income\"]> 30000,\"income_group\"]=\"<= 50,000\"\n",
    "    data.loc[data[\"income\"]> 50000,\"income_group\"]=\"<= 70,000\"\n",
    "    data.loc[data[\"income\"]> 70000,\"income_group\"]=\"Up to 100,000\"\n",
    "    return data"
   ]
  },
  {
   "cell_type": "code",
   "execution_count": 88,
   "id": "2cd7cf2b",
   "metadata": {},
   "outputs": [
    {
     "data": {
      "text/html": [
       "<div>\n",
       "<style scoped>\n",
       "    .dataframe tbody tr th:only-of-type {\n",
       "        vertical-align: middle;\n",
       "    }\n",
       "\n",
       "    .dataframe tbody tr th {\n",
       "        vertical-align: top;\n",
       "    }\n",
       "\n",
       "    .dataframe thead th {\n",
       "        text-align: right;\n",
       "    }\n",
       "</style>\n",
       "<table border=\"1\" class=\"dataframe\">\n",
       "  <thead>\n",
       "    <tr style=\"text-align: right;\">\n",
       "      <th></th>\n",
       "      <th>region</th>\n",
       "      <th>customer_lifetime_value</th>\n",
       "      <th>response</th>\n",
       "      <th>coverage</th>\n",
       "      <th>education</th>\n",
       "      <th>effective_to_date</th>\n",
       "      <th>month</th>\n",
       "      <th>employment_status</th>\n",
       "      <th>gender</th>\n",
       "      <th>income</th>\n",
       "      <th>...</th>\n",
       "      <th>number_of_policies</th>\n",
       "      <th>policy_type</th>\n",
       "      <th>policy</th>\n",
       "      <th>renew_offer_type</th>\n",
       "      <th>sales_channel</th>\n",
       "      <th>total_claim_amount</th>\n",
       "      <th>vehicle_class</th>\n",
       "      <th>vehicle_size</th>\n",
       "      <th>total_claim_group</th>\n",
       "      <th>income_group</th>\n",
       "    </tr>\n",
       "  </thead>\n",
       "  <tbody>\n",
       "    <tr>\n",
       "      <th>0</th>\n",
       "      <td>central</td>\n",
       "      <td>4809</td>\n",
       "      <td>no</td>\n",
       "      <td>basic</td>\n",
       "      <td>college</td>\n",
       "      <td>2/18/11</td>\n",
       "      <td>feb</td>\n",
       "      <td>employed</td>\n",
       "      <td>m</td>\n",
       "      <td>48029</td>\n",
       "      <td>...</td>\n",
       "      <td>9</td>\n",
       "      <td>corporate auto</td>\n",
       "      <td>corporate l3</td>\n",
       "      <td>offer3</td>\n",
       "      <td>agent</td>\n",
       "      <td>292</td>\n",
       "      <td>four-door car</td>\n",
       "      <td>medsize</td>\n",
       "      <td>300</td>\n",
       "      <td>&lt;= 50,000</td>\n",
       "    </tr>\n",
       "    <tr>\n",
       "      <th>1</th>\n",
       "      <td>west region</td>\n",
       "      <td>2228</td>\n",
       "      <td>no</td>\n",
       "      <td>basic</td>\n",
       "      <td>college</td>\n",
       "      <td>1/18/11</td>\n",
       "      <td>jan</td>\n",
       "      <td>unemployed</td>\n",
       "      <td>f</td>\n",
       "      <td>92260</td>\n",
       "      <td>...</td>\n",
       "      <td>1</td>\n",
       "      <td>personal auto</td>\n",
       "      <td>personal l3</td>\n",
       "      <td>offer4</td>\n",
       "      <td>call center</td>\n",
       "      <td>744</td>\n",
       "      <td>four-door car</td>\n",
       "      <td>medsize</td>\n",
       "      <td>800</td>\n",
       "      <td>Up to 100,000</td>\n",
       "    </tr>\n",
       "    <tr>\n",
       "      <th>2</th>\n",
       "      <td>east</td>\n",
       "      <td>14947</td>\n",
       "      <td>no</td>\n",
       "      <td>basic</td>\n",
       "      <td>bachelor</td>\n",
       "      <td>2/10/11</td>\n",
       "      <td>feb</td>\n",
       "      <td>employed</td>\n",
       "      <td>m</td>\n",
       "      <td>22139</td>\n",
       "      <td>...</td>\n",
       "      <td>2</td>\n",
       "      <td>personal auto</td>\n",
       "      <td>personal l3</td>\n",
       "      <td>offer3</td>\n",
       "      <td>call center</td>\n",
       "      <td>480</td>\n",
       "      <td>suv</td>\n",
       "      <td>medsize</td>\n",
       "      <td>500</td>\n",
       "      <td>&lt;= 30,000</td>\n",
       "    </tr>\n",
       "    <tr>\n",
       "      <th>3</th>\n",
       "      <td>north west</td>\n",
       "      <td>22332</td>\n",
       "      <td>yes</td>\n",
       "      <td>extended</td>\n",
       "      <td>college</td>\n",
       "      <td>1/11/11</td>\n",
       "      <td>jan</td>\n",
       "      <td>employed</td>\n",
       "      <td>m</td>\n",
       "      <td>49078</td>\n",
       "      <td>...</td>\n",
       "      <td>2</td>\n",
       "      <td>corporate auto</td>\n",
       "      <td>corporate l3</td>\n",
       "      <td>offer2</td>\n",
       "      <td>branch</td>\n",
       "      <td>484</td>\n",
       "      <td>four-door car</td>\n",
       "      <td>medsize</td>\n",
       "      <td>500</td>\n",
       "      <td>&lt;= 50,000</td>\n",
       "    </tr>\n",
       "    <tr>\n",
       "      <th>4</th>\n",
       "      <td>north west</td>\n",
       "      <td>9025</td>\n",
       "      <td>no</td>\n",
       "      <td>premium</td>\n",
       "      <td>bachelor</td>\n",
       "      <td>1/17/11</td>\n",
       "      <td>jan</td>\n",
       "      <td>medical leave</td>\n",
       "      <td>f</td>\n",
       "      <td>23675</td>\n",
       "      <td>...</td>\n",
       "      <td>7</td>\n",
       "      <td>personal auto</td>\n",
       "      <td>personal l2</td>\n",
       "      <td>offer1</td>\n",
       "      <td>branch</td>\n",
       "      <td>707</td>\n",
       "      <td>four-door car</td>\n",
       "      <td>medsize</td>\n",
       "      <td>800</td>\n",
       "      <td>&lt;= 30,000</td>\n",
       "    </tr>\n",
       "    <tr>\n",
       "      <th>...</th>\n",
       "      <td>...</td>\n",
       "      <td>...</td>\n",
       "      <td>...</td>\n",
       "      <td>...</td>\n",
       "      <td>...</td>\n",
       "      <td>...</td>\n",
       "      <td>...</td>\n",
       "      <td>...</td>\n",
       "      <td>...</td>\n",
       "      <td>...</td>\n",
       "      <td>...</td>\n",
       "      <td>...</td>\n",
       "      <td>...</td>\n",
       "      <td>...</td>\n",
       "      <td>...</td>\n",
       "      <td>...</td>\n",
       "      <td>...</td>\n",
       "      <td>...</td>\n",
       "      <td>...</td>\n",
       "      <td>...</td>\n",
       "      <td>...</td>\n",
       "    </tr>\n",
       "    <tr>\n",
       "      <th>10684</th>\n",
       "      <td>central</td>\n",
       "      <td>15563</td>\n",
       "      <td>no</td>\n",
       "      <td>premium</td>\n",
       "      <td>bachelor</td>\n",
       "      <td>1/19/11</td>\n",
       "      <td>jan</td>\n",
       "      <td>unemployed</td>\n",
       "      <td>f</td>\n",
       "      <td>61541</td>\n",
       "      <td>...</td>\n",
       "      <td>7</td>\n",
       "      <td>personal auto</td>\n",
       "      <td>personal l1</td>\n",
       "      <td>offer3</td>\n",
       "      <td>web</td>\n",
       "      <td>1214</td>\n",
       "      <td>luxury car</td>\n",
       "      <td>medsize</td>\n",
       "      <td>Over 1,000</td>\n",
       "      <td>&lt;= 70,000</td>\n",
       "    </tr>\n",
       "    <tr>\n",
       "      <th>10685</th>\n",
       "      <td>north west</td>\n",
       "      <td>5259</td>\n",
       "      <td>no</td>\n",
       "      <td>basic</td>\n",
       "      <td>college</td>\n",
       "      <td>1/6/11</td>\n",
       "      <td>jan</td>\n",
       "      <td>employed</td>\n",
       "      <td>f</td>\n",
       "      <td>61146</td>\n",
       "      <td>...</td>\n",
       "      <td>6</td>\n",
       "      <td>personal auto</td>\n",
       "      <td>personal l3</td>\n",
       "      <td>offer2</td>\n",
       "      <td>branch</td>\n",
       "      <td>273</td>\n",
       "      <td>four-door car</td>\n",
       "      <td>medsize</td>\n",
       "      <td>300</td>\n",
       "      <td>&lt;= 70,000</td>\n",
       "    </tr>\n",
       "    <tr>\n",
       "      <th>10686</th>\n",
       "      <td>central</td>\n",
       "      <td>23893</td>\n",
       "      <td>no</td>\n",
       "      <td>extended</td>\n",
       "      <td>bachelor</td>\n",
       "      <td>2/6/11</td>\n",
       "      <td>feb</td>\n",
       "      <td>employed</td>\n",
       "      <td>f</td>\n",
       "      <td>39837</td>\n",
       "      <td>...</td>\n",
       "      <td>2</td>\n",
       "      <td>corporate auto</td>\n",
       "      <td>corporate l3</td>\n",
       "      <td>offer1</td>\n",
       "      <td>web</td>\n",
       "      <td>381</td>\n",
       "      <td>luxury suv</td>\n",
       "      <td>medsize</td>\n",
       "      <td>400</td>\n",
       "      <td>&lt;= 50,000</td>\n",
       "    </tr>\n",
       "    <tr>\n",
       "      <th>10687</th>\n",
       "      <td>west region</td>\n",
       "      <td>11971</td>\n",
       "      <td>no</td>\n",
       "      <td>premium</td>\n",
       "      <td>college</td>\n",
       "      <td>2/13/11</td>\n",
       "      <td>feb</td>\n",
       "      <td>employed</td>\n",
       "      <td>f</td>\n",
       "      <td>64195</td>\n",
       "      <td>...</td>\n",
       "      <td>6</td>\n",
       "      <td>personal auto</td>\n",
       "      <td>personal l1</td>\n",
       "      <td>offer1</td>\n",
       "      <td>branch</td>\n",
       "      <td>618</td>\n",
       "      <td>suv</td>\n",
       "      <td>medsize</td>\n",
       "      <td>700</td>\n",
       "      <td>&lt;= 70,000</td>\n",
       "    </tr>\n",
       "    <tr>\n",
       "      <th>10688</th>\n",
       "      <td>central</td>\n",
       "      <td>6857</td>\n",
       "      <td>no</td>\n",
       "      <td>basic</td>\n",
       "      <td>bachelor</td>\n",
       "      <td>1/8/11</td>\n",
       "      <td>jan</td>\n",
       "      <td>unemployed</td>\n",
       "      <td>m</td>\n",
       "      <td>68942</td>\n",
       "      <td>...</td>\n",
       "      <td>3</td>\n",
       "      <td>personal auto</td>\n",
       "      <td>personal l1</td>\n",
       "      <td>offer4</td>\n",
       "      <td>web</td>\n",
       "      <td>1021</td>\n",
       "      <td>suv</td>\n",
       "      <td>medsize</td>\n",
       "      <td>Over 1,000</td>\n",
       "      <td>&lt;= 70,000</td>\n",
       "    </tr>\n",
       "  </tbody>\n",
       "</table>\n",
       "<p>10689 rows × 26 columns</p>\n",
       "</div>"
      ],
      "text/plain": [
       "            region  customer_lifetime_value response  coverage education  \\\n",
       "0          central                     4809       no     basic   college   \n",
       "1      west region                     2228       no     basic   college   \n",
       "2             east                    14947       no     basic  bachelor   \n",
       "3       north west                    22332      yes  extended   college   \n",
       "4       north west                     9025       no   premium  bachelor   \n",
       "...            ...                      ...      ...       ...       ...   \n",
       "10684      central                    15563       no   premium  bachelor   \n",
       "10685   north west                     5259       no     basic   college   \n",
       "10686      central                    23893       no  extended  bachelor   \n",
       "10687  west region                    11971       no   premium   college   \n",
       "10688      central                     6857       no     basic  bachelor   \n",
       "\n",
       "      effective_to_date month employment_status gender  income  ...  \\\n",
       "0               2/18/11   feb          employed      m   48029  ...   \n",
       "1               1/18/11   jan        unemployed      f   92260  ...   \n",
       "2               2/10/11   feb          employed      m   22139  ...   \n",
       "3               1/11/11   jan          employed      m   49078  ...   \n",
       "4               1/17/11   jan     medical leave      f   23675  ...   \n",
       "...                 ...   ...               ...    ...     ...  ...   \n",
       "10684           1/19/11   jan        unemployed      f   61541  ...   \n",
       "10685            1/6/11   jan          employed      f   61146  ...   \n",
       "10686            2/6/11   feb          employed      f   39837  ...   \n",
       "10687           2/13/11   feb          employed      f   64195  ...   \n",
       "10688            1/8/11   jan        unemployed      m   68942  ...   \n",
       "\n",
       "      number_of_policies     policy_type        policy  renew_offer_type  \\\n",
       "0                      9  corporate auto  corporate l3            offer3   \n",
       "1                      1   personal auto   personal l3            offer4   \n",
       "2                      2   personal auto   personal l3            offer3   \n",
       "3                      2  corporate auto  corporate l3            offer2   \n",
       "4                      7   personal auto   personal l2            offer1   \n",
       "...                  ...             ...           ...               ...   \n",
       "10684                  7   personal auto   personal l1            offer3   \n",
       "10685                  6   personal auto   personal l3            offer2   \n",
       "10686                  2  corporate auto  corporate l3            offer1   \n",
       "10687                  6   personal auto   personal l1            offer1   \n",
       "10688                  3   personal auto   personal l1            offer4   \n",
       "\n",
       "       sales_channel  total_claim_amount  vehicle_class vehicle_size  \\\n",
       "0              agent                 292  four-door car      medsize   \n",
       "1        call center                 744  four-door car      medsize   \n",
       "2        call center                 480            suv      medsize   \n",
       "3             branch                 484  four-door car      medsize   \n",
       "4             branch                 707  four-door car      medsize   \n",
       "...              ...                 ...            ...          ...   \n",
       "10684            web                1214     luxury car      medsize   \n",
       "10685         branch                 273  four-door car      medsize   \n",
       "10686            web                 381     luxury suv      medsize   \n",
       "10687         branch                 618            suv      medsize   \n",
       "10688            web                1021            suv      medsize   \n",
       "\n",
       "      total_claim_group   income_group  \n",
       "0                   300      <= 50,000  \n",
       "1                   800  Up to 100,000  \n",
       "2                   500      <= 30,000  \n",
       "3                   500      <= 50,000  \n",
       "4                   800      <= 30,000  \n",
       "...                 ...            ...  \n",
       "10684       Over 1,000       <= 70,000  \n",
       "10685               300      <= 70,000  \n",
       "10686               400      <= 50,000  \n",
       "10687               700      <= 70,000  \n",
       "10688       Over 1,000       <= 70,000  \n",
       "\n",
       "[10689 rows x 26 columns]"
      ]
     },
     "execution_count": 88,
     "metadata": {},
     "output_type": "execute_result"
    }
   ],
   "source": [
    "new_data = income_groups()\n",
    "new_data"
   ]
  },
  {
   "cell_type": "code",
   "execution_count": 89,
   "id": "7af6c0cf",
   "metadata": {},
   "outputs": [
    {
     "data": {
      "text/html": [
       "<div>\n",
       "<style scoped>\n",
       "    .dataframe tbody tr th:only-of-type {\n",
       "        vertical-align: middle;\n",
       "    }\n",
       "\n",
       "    .dataframe tbody tr th {\n",
       "        vertical-align: top;\n",
       "    }\n",
       "\n",
       "    .dataframe thead th {\n",
       "        text-align: right;\n",
       "    }\n",
       "</style>\n",
       "<table border=\"1\" class=\"dataframe\">\n",
       "  <thead>\n",
       "    <tr style=\"text-align: right;\">\n",
       "      <th></th>\n",
       "      <th>income_group</th>\n",
       "      <th>response</th>\n",
       "      <th>count</th>\n",
       "    </tr>\n",
       "  </thead>\n",
       "  <tbody>\n",
       "    <tr>\n",
       "      <th>0</th>\n",
       "      <td>&lt;= 30,000</td>\n",
       "      <td>no</td>\n",
       "      <td>2290</td>\n",
       "    </tr>\n",
       "    <tr>\n",
       "      <th>1</th>\n",
       "      <td>&lt;= 30,000</td>\n",
       "      <td>yes</td>\n",
       "      <td>491</td>\n",
       "    </tr>\n",
       "    <tr>\n",
       "      <th>2</th>\n",
       "      <td>&lt;= 50,000</td>\n",
       "      <td>no</td>\n",
       "      <td>2251</td>\n",
       "    </tr>\n",
       "    <tr>\n",
       "      <th>3</th>\n",
       "      <td>&lt;= 50,000</td>\n",
       "      <td>yes</td>\n",
       "      <td>268</td>\n",
       "    </tr>\n",
       "    <tr>\n",
       "      <th>4</th>\n",
       "      <td>&lt;= 70,000</td>\n",
       "      <td>no</td>\n",
       "      <td>2181</td>\n",
       "    </tr>\n",
       "    <tr>\n",
       "      <th>5</th>\n",
       "      <td>&lt;= 70,000</td>\n",
       "      <td>yes</td>\n",
       "      <td>298</td>\n",
       "    </tr>\n",
       "    <tr>\n",
       "      <th>6</th>\n",
       "      <td>Up to 100,000</td>\n",
       "      <td>no</td>\n",
       "      <td>2594</td>\n",
       "    </tr>\n",
       "    <tr>\n",
       "      <th>7</th>\n",
       "      <td>Up to 100,000</td>\n",
       "      <td>yes</td>\n",
       "      <td>316</td>\n",
       "    </tr>\n",
       "  </tbody>\n",
       "</table>\n",
       "</div>"
      ],
      "text/plain": [
       "    income_group response  count\n",
       "0      <= 30,000       no   2290\n",
       "1      <= 30,000      yes    491\n",
       "2      <= 50,000       no   2251\n",
       "3      <= 50,000      yes    268\n",
       "4      <= 70,000       no   2181\n",
       "5      <= 70,000      yes    298\n",
       "6  Up to 100,000       no   2594\n",
       "7  Up to 100,000      yes    316"
      ]
     },
     "execution_count": 89,
     "metadata": {},
     "output_type": "execute_result"
    }
   ],
   "source": [
    "income_group_response = new_data.groupby(['income_group','response'])['response'].count().rename('count').reset_index()\n",
    "income_group_response"
   ]
  },
  {
   "cell_type": "code",
   "execution_count": 90,
   "id": "98109aea",
   "metadata": {},
   "outputs": [
    {
     "data": {
      "image/png": "[encoded data removed]",
      "text/plain": [
       "<Figure size 720x360 with 2 Axes>"
      ]
     },
     "metadata": {
      "needs_background": "light"
     },
     "output_type": "display_data"
    }
   ],
   "source": [
    "fg10 = sns.catplot(x='income_group', y = 'count', data = income_group_response, col='response', kind='bar')\n"
   ]
  },
  {
   "cell_type": "code",
   "execution_count": null,
   "id": "bf80f559",
   "metadata": {},
   "outputs": [],
   "source": []
  }
 ],
 "metadata": {
  "kernelspec": {
   "display_name": "Python 3 (ipykernel)",
   "language": "python",
   "name": "python3"
  },
  "language_info": {
   "codemirror_mode": {
    "name": "ipython",
    "version": 3
   },
   "file_extension": ".py",
   "mimetype": "text/x-python",
   "name": "python",
   "nbconvert_exporter": "python",
   "pygments_lexer": "ipython3",
   "version": "3.9.12"
  }
 },
 "nbformat": 4,
 "nbformat_minor": 5
}
